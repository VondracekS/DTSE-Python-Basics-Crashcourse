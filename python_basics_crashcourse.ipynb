{
  "nbformat": 4,
  "nbformat_minor": 0,
  "metadata": {
    "colab": {
      "provenance": [],
      "collapsed_sections": [
        "Z8veFKX7zox-",
        "WTYESxlFut78",
        "JbIjqJ_qulP1",
        "Tu0KApJPrb0d",
        "HnPct0mxu9q3",
        "K4SyQDhrxmq1"
      ],
      "toc_visible": true,
      "authorship_tag": "ABX9TyP6Jv2t/KNSGnnh+V5ce3c/",
      "include_colab_link": true
    },
    "kernelspec": {
      "name": "python3",
      "display_name": "Python 3"
    },
    "language_info": {
      "name": "python"
    }
  },
  "cells": [
    {
      "cell_type": "markdown",
      "metadata": {
        "id": "view-in-github",
        "colab_type": "text"
      },
      "source": [
        "<a href=\"https://colab.research.google.com/github/VondracekS/ts_basics_dtse_lecture/blob/main/python_basics_crashcourse.ipynb\" target=\"_parent\"><img src=\"https://colab.research.google.com/assets/colab-badge.svg\" alt=\"Open In Colab\"/></a>"
      ]
    },
    {
      "cell_type": "markdown",
      "source": [
        "# Python Crashcourse by DTSE AIS\n"
      ],
      "metadata": {
        "id": "Z8veFKX7zox-"
      }
    },
    {
      "cell_type": "markdown",
      "source": [
        "Welcome to our Python course. The goal is to get you acquainted with python\n",
        "and programming basics. THe course does not expect you to be profficient in\n",
        "any of the concept we will be dealing with.\n",
        "\n",
        "\n"
      ],
      "metadata": {
        "id": "rp-UahRg0TQ4"
      }
    },
    {
      "cell_type": "markdown",
      "source": [
        "# 1 Python Basics\n",
        "\n",
        "In the first section, we go through the basics of Python syntax  "
      ],
      "metadata": {
        "id": "WTYESxlFut78"
      }
    },
    {
      "cell_type": "markdown",
      "source": [
        "## 1.1 Variables\n",
        "- Variables are used to store data. A variable is created the moment you first assign a value to it, using the **= operator**.\n",
        "- Variables do not need to be declared with any particular type, and can even change type after they have been set.\n",
        "- Variable names can contain letters, numbers and underscores, but cannot start with a number. A whitespace is not allowed (is interpreted as a start of new object). Python is case-sensitive, so \"a\" and \"A\" are different variables."
      ],
      "metadata": {
        "id": "VekImw7ulej3"
      }
    },
    {
      "cell_type": "markdown",
      "source": [
        "## 1.2 Values\n",
        "Values in python can have multiple forms, of which the most basic ones are:\n",
        "\n",
        "1.   **strings** represent text and are declared using quotation marks: \"this is string\" (please note that almost all charcters are allowed except for \"\\\\n\" which represents new line)\n",
        "2. **integers** representing whole numbers are defined using digits 0-9 without whitespace\n",
        "3. **float** representing number with decimal points, such as 2.995\n",
        "4. **bool** representing logical True/False - you cannot use True or False in variable name\n",
        "\n",
        "One of the comon mistakes is the confusion between variable which is declared without quotation marks and some string which needs quotation marks assigned. Please run a few examples to see which cases are not allowed\n"
      ],
      "metadata": {
        "id": "Wnr0PC6ZRmrb"
      }
    },
    {
      "cell_type": "markdown",
      "source": [
        "##1.3 Basic numerical operations\n",
        "\n",
        "In Python, the basic logical and numerical operations are quite straightforward and they follow basic mathematical conventions. Without going into too much detail, here I provide the basic summary:\n",
        "\n",
        "- \"+\", \"-\" are quite straightforward\n",
        "- \"*\" stands for multiplication and \"**\" stands for raising to power\n",
        "- \"/\" is simple division, \"//\" is a whole number division rounded to floor, \"%\" returns the remainder after division\n",
        "- \"==\" stands for equality assessment, please don't confuse with \"=\" which stands for assignment to variable\n",
        "- \"<\" less \">\" more, \"<=\"/\">=\" inclusive of equality\n",
        "- \"or\" and \"and\" are logical operators\n"
      ],
      "metadata": {
        "id": "yeTgnjDHWano"
      }
    },
    {
      "cell_type": "markdown",
      "source": [
        "## 1.4 Excercises\n",
        "\n",
        "In the following cells, you can find a series of assignments. The items to be completed are marked as #TODO, there's no need to modify other code cells which might contain tests, further explanations etc."
      ],
      "metadata": {
        "id": "BAL9SVKtXxLf"
      }
    },
    {
      "cell_type": "markdown",
      "source": [
        "### 1.4.1 Assigning to variable"
      ],
      "metadata": {
        "id": "5J96SwC9YmdG"
      }
    },
    {
      "cell_type": "code",
      "source": [
        "print(can this be a string?)"
      ],
      "metadata": {
        "collapsed": true,
        "colab": {
          "base_uri": "https://localhost:8080/",
          "height": 109
        },
        "id": "JAPGoH1FTTJZ",
        "outputId": "dc8f80a2-31b4-4994-b7db-a9313c6cb7a7"
      },
      "execution_count": 1,
      "outputs": [
        {
          "output_type": "error",
          "ename": "SyntaxError",
          "evalue": "invalid syntax. Perhaps you forgot a comma? (<ipython-input-1-8c668f95cfd9>, line 1)",
          "traceback": [
            "\u001b[0;36m  File \u001b[0;32m\"<ipython-input-1-8c668f95cfd9>\"\u001b[0;36m, line \u001b[0;32m1\u001b[0m\n\u001b[0;31m    print(can this be a string?)\u001b[0m\n\u001b[0m          ^\u001b[0m\n\u001b[0;31mSyntaxError\u001b[0m\u001b[0;31m:\u001b[0m invalid syntax. Perhaps you forgot a comma?\n"
          ]
        }
      ]
    },
    {
      "cell_type": "code",
      "source": [
        "print(\"Can this be a string? YES\")"
      ],
      "metadata": {
        "colab": {
          "base_uri": "https://localhost:8080/"
        },
        "id": "r4x1bSQyTsZC",
        "outputId": "9369ce06-4ee8-436c-b373-625a583ac9f7"
      },
      "execution_count": 2,
      "outputs": [
        {
          "output_type": "stream",
          "name": "stdout",
          "text": [
            "Can this be a string? YES\n"
          ]
        }
      ]
    },
    {
      "cell_type": "code",
      "source": [
        "1 = \"Hello World\"\n",
        "print(\"Can I declare variable like \\n \", 1)"
      ],
      "metadata": {
        "collapsed": true,
        "colab": {
          "base_uri": "https://localhost:8080/",
          "height": 109
        },
        "id": "TRM-0EIXT87L",
        "outputId": "9f6ab882-62e8-45c5-9698-f1e53000dcb2"
      },
      "execution_count": 3,
      "outputs": [
        {
          "output_type": "error",
          "ename": "SyntaxError",
          "evalue": "cannot assign to literal here. Maybe you meant '==' instead of '='? (<ipython-input-3-b32416466204>, line 1)",
          "traceback": [
            "\u001b[0;36m  File \u001b[0;32m\"<ipython-input-3-b32416466204>\"\u001b[0;36m, line \u001b[0;32m1\u001b[0m\n\u001b[0;31m    1 = \"Hello World\"\u001b[0m\n\u001b[0m    ^\u001b[0m\n\u001b[0;31mSyntaxError\u001b[0m\u001b[0;31m:\u001b[0m cannot assign to literal here. Maybe you meant '==' instead of '='?\n"
          ]
        }
      ]
    },
    {
      "cell_type": "code",
      "source": [
        "var_1 = \"Hello World\"\n",
        "print(\"Can I declare variable like var_1 = \", end = \"\")\n",
        "print(var_1, \"?\")"
      ],
      "metadata": {
        "colab": {
          "base_uri": "https://localhost:8080/"
        },
        "id": "m7gPeTI5UMY7",
        "outputId": "afdafbdc-a11a-4593-ebb4-eb30340e84f8"
      },
      "execution_count": 4,
      "outputs": [
        {
          "output_type": "stream",
          "name": "stdout",
          "text": [
            "Can I declare variable like var_1 = Hello World ?\n"
          ]
        }
      ]
    },
    {
      "cell_type": "markdown",
      "source": [
        "TODO:\n",
        "- Create a variable called \"name\" and set it to ANY name.\n",
        "- Create a variable called \"date_birth\" and set it to ANY date of birth (use format YYYY_MM_DD)."
      ],
      "metadata": {
        "id": "CyYhjjVhogMa"
      }
    },
    {
      "cell_type": "code",
      "source": [
        "# TODO: Create a variable called \"name\" and set it to ANY name.\n",
        "# TODO: Create a variable called \"date_birth\" and set it to ANY date of birth (use format YYYY_MM_DD).\n",
        "name = \"\"\n",
        "date_birth = \"\""
      ],
      "metadata": {
        "id": "--_fnT_6lV6r"
      },
      "execution_count": null,
      "outputs": []
    },
    {
      "cell_type": "code",
      "source": [
        "# you can always check the value by using print(variable) command\n",
        "print(name)"
      ],
      "metadata": {
        "colab": {
          "base_uri": "https://localhost:8080/"
        },
        "id": "Y-5oYCyCr8Dk",
        "outputId": "e013d5bf-9fec-4863-bdbf-a65ad6987eee"
      },
      "execution_count": null,
      "outputs": [
        {
          "output_type": "stream",
          "name": "stdout",
          "text": [
            "\n"
          ]
        }
      ]
    },
    {
      "cell_type": "code",
      "source": [
        "# tests of your results follow:\n",
        "from datetime import datetime\n",
        "\n",
        "def is_date_in_format(date_string: str) -> bool:\n",
        "    try:\n",
        "        datetime.strptime(date_string, '%Y_%m_%d')\n",
        "        return True\n",
        "    except ValueError:\n",
        "        return False"
      ],
      "metadata": {
        "id": "s8wAbg7mlr1O"
      },
      "execution_count": null,
      "outputs": []
    },
    {
      "cell_type": "code",
      "source": [
        "assert is_date_in_format(date_birth), f\"Your variable date: {date_birth} does not fulfill the required format\""
      ],
      "metadata": {
        "id": "CoJSZjnpmpPw",
        "collapsed": true,
        "colab": {
          "base_uri": "https://localhost:8080/",
          "height": 145
        },
        "outputId": "be15eaa1-605f-4b36-9995-e6d6c0b40c17"
      },
      "execution_count": null,
      "outputs": [
        {
          "output_type": "error",
          "ename": "AssertionError",
          "evalue": "Your variable date:  does not fulfill the required format",
          "traceback": [
            "\u001b[0;31m---------------------------------------------------------------------------\u001b[0m",
            "\u001b[0;31mAssertionError\u001b[0m                            Traceback (most recent call last)",
            "\u001b[0;32m<ipython-input-17-d94035599ea2>\u001b[0m in \u001b[0;36m<cell line: 1>\u001b[0;34m()\u001b[0m\n\u001b[0;32m----> 1\u001b[0;31m \u001b[0;32massert\u001b[0m \u001b[0mis_date_in_format\u001b[0m\u001b[0;34m(\u001b[0m\u001b[0mdate_birth\u001b[0m\u001b[0;34m)\u001b[0m\u001b[0;34m,\u001b[0m \u001b[0;34mf\"Your variable date: {date_birth} does not fulfill the required format\"\u001b[0m\u001b[0;34m\u001b[0m\u001b[0;34m\u001b[0m\u001b[0m\n\u001b[0m",
            "\u001b[0;31mAssertionError\u001b[0m: Your variable date:  does not fulfill the required format"
          ]
        }
      ]
    },
    {
      "cell_type": "code",
      "source": [
        "assert len(name) > 0 and isinstance(name, str), f\"Your variable name: {name} does not fulfill the requirement\"  # test name validity"
      ],
      "metadata": {
        "id": "-Qp35w2TmrbF",
        "collapsed": true,
        "colab": {
          "base_uri": "https://localhost:8080/",
          "height": 145
        },
        "outputId": "d93465c9-033f-4e0c-f134-d64465131da2"
      },
      "execution_count": null,
      "outputs": [
        {
          "output_type": "error",
          "ename": "AssertionError",
          "evalue": "Your variable name:  does not fulfill the requirement",
          "traceback": [
            "\u001b[0;31m---------------------------------------------------------------------------\u001b[0m",
            "\u001b[0;31mAssertionError\u001b[0m                            Traceback (most recent call last)",
            "\u001b[0;32m<ipython-input-18-5e040ef532f7>\u001b[0m in \u001b[0;36m<cell line: 1>\u001b[0;34m()\u001b[0m\n\u001b[0;32m----> 1\u001b[0;31m \u001b[0;32massert\u001b[0m \u001b[0mlen\u001b[0m\u001b[0;34m(\u001b[0m\u001b[0mname\u001b[0m\u001b[0;34m)\u001b[0m \u001b[0;34m>\u001b[0m \u001b[0;36m0\u001b[0m \u001b[0;32mand\u001b[0m \u001b[0misinstance\u001b[0m\u001b[0;34m(\u001b[0m\u001b[0mname\u001b[0m\u001b[0;34m,\u001b[0m \u001b[0mstr\u001b[0m\u001b[0;34m)\u001b[0m\u001b[0;34m,\u001b[0m \u001b[0;34mf\"Your variable name: {name} does not fulfill the requirement\"\u001b[0m  \u001b[0;31m# test name validity\u001b[0m\u001b[0;34m\u001b[0m\u001b[0;34m\u001b[0m\u001b[0m\n\u001b[0m",
            "\u001b[0;31mAssertionError\u001b[0m: Your variable name:  does not fulfill the requirement"
          ]
        }
      ]
    },
    {
      "cell_type": "code",
      "source": [
        "for key, value in {\"name\": name, \"date_birth\": date_birth}.items():\n",
        "    print(f\"Variable {key}: value {value} assigned correctly\")"
      ],
      "metadata": {
        "colab": {
          "base_uri": "https://localhost:8080/"
        },
        "id": "vxLioMmankHw",
        "outputId": "dcf42dba-ecc3-4668-c33d-d1369efa4928"
      },
      "execution_count": null,
      "outputs": [
        {
          "output_type": "stream",
          "name": "stdout",
          "text": [
            "Variable name: value Ahoj assigned correctly\n",
            "Variable date_birth: value 2023_01_01 assigned correctly\n"
          ]
        }
      ]
    },
    {
      "cell_type": "markdown",
      "source": [
        "TODO: Create following variables with an appropriate data type:\n",
        "- \"age\" and set it to an integer (whole number)\n",
        "- \"height\" in meters and set it to a float (decimal number)\n",
        "- \"is_student\" and set it to a boolean (True/False)\n",
        "- \"team\" (list of colleagues from the same team, each of them is an item in the list)"
      ],
      "metadata": {
        "id": "rlOPNhjRoZN9"
      }
    },
    {
      "cell_type": "code",
      "source": [
        "age = 0\n",
        "height_m = 0\n",
        "weight_kg = 0\n",
        "is_student = None"
      ],
      "metadata": {
        "id": "Pr19AYNJo6ba"
      },
      "execution_count": 5,
      "outputs": []
    },
    {
      "cell_type": "markdown",
      "source": [
        "### 1.4.2 Basic operations"
      ],
      "metadata": {
        "id": "Wl7A1e1vYwj8"
      }
    },
    {
      "cell_type": "markdown",
      "source": [
        "TODO: Perform the following operations:\n",
        "- Add 2 to the \"age\" variable\n",
        "- Create a new variable called BMI and compute the value (formula is BMI = weight[kg] / height[meters]^2)\n",
        "- Check if the \"age\" is greater than 18\n",
        "- Check if the age is an odd number (hint: use modulo operator)\n",
        "- Check how many times did the person celebrate 10-year-milestone birthday (hint: use whole number division)\n",
        "- Check if the person is a student and is younger than 18"
      ],
      "metadata": {
        "id": "uhmTwgFfqCVj"
      }
    },
    {
      "cell_type": "code",
      "source": [
        "add_age_2 = None\n",
        "bmi = None\n",
        "age_greater_18 = None\n",
        "age_odd = None\n",
        "celebrated_10_years = None\n",
        "student_and_younger_than_18 = None"
      ],
      "metadata": {
        "id": "T6hmox6hqKXg"
      },
      "execution_count": 7,
      "outputs": []
    },
    {
      "cell_type": "markdown",
      "source": [
        "# 2 Abstract Data Types Operations"
      ],
      "metadata": {
        "id": "JbIjqJ_qulP1"
      }
    },
    {
      "cell_type": "markdown",
      "source": [
        "## 2.1 Strings\n",
        "Strings in Python are arrays of bytes representing Unicode characters.\n",
        "Python does not have a character data type, a single character is simply a string with a length of 1.\n",
        "Strings can be enclosed in single quotes ('...') or double quotes (\"...\") with the same result.\n",
        "Operations on strings include:\n",
        "- Concatenation: \"a\" + \"b\" = \"ab\"\n",
        "- Multiplication: \"a\" * 3 = \"aaa\"\n",
        "- Lower and upper case: \"abc\".upper() = \"ABC\", \"ABC\".lower() = \"abc\"\n",
        "- Indexing: \"abc\"[1] = \"b\" (please note that Python uses 0-based indexing - first character is at index 0)\n",
        "- Slicing: \"abc\"[1:3] = \"bc\" (slicing returns a substring from the start index to the end index)\n",
        "- Length: len(\"abc\") = 3\n",
        "- Splitting: \"a,b,c\".split(\",\") = [\"a\", \"b\", \"c\"]"
      ],
      "metadata": {
        "id": "Tu0KApJPrb0d"
      }
    },
    {
      "cell_type": "code",
      "source": [
        "our_basic_string = \"Hello World!\""
      ],
      "metadata": {
        "id": "n4w0CgQgrmr5"
      },
      "execution_count": null,
      "outputs": []
    },
    {
      "cell_type": "markdown",
      "source": [
        "TODO:\n",
        "- Add your name to the string, so it says \"I am {YOUR NAME}\"\n",
        "- Print the string in upper case\n",
        "- Print the string in lower case\n",
        "- Print the first 5 characters of the string\n",
        "- Separate the string into two parts: \"Hello\" and \"World!\"\n",
        "- Print the length of the string"
      ],
      "metadata": {
        "id": "dzWrk2H3rugt"
      }
    },
    {
      "cell_type": "code",
      "source": [
        "basic_string_with_name = None\n",
        "upper_case_string = None\n",
        "lower_case_string = None\n",
        "first_5_chars = None\n",
        "separated_string = None\n",
        "string_length = None"
      ],
      "metadata": {
        "id": "0bHAAxWZtRib"
      },
      "execution_count": null,
      "outputs": []
    },
    {
      "cell_type": "code",
      "source": [
        "for key, value in {\"basic_string_with_name\": basic_string_with_name,\n",
        "                   \"upper_case_string\": upper_case_string,\n",
        "                   \"lower_case_string\": lower_case_string,\n",
        "                   \"first_5_chars\": first_5_chars,\n",
        "                   \"separated_string\": separated_string,\n",
        "                   \"string_length\": string_length}.items():\n",
        "    print(f\"{key}: {value}\")"
      ],
      "metadata": {
        "colab": {
          "base_uri": "https://localhost:8080/"
        },
        "id": "tNgDnPH5tlM1",
        "outputId": "34eaa872-c3f7-42f3-96f0-a51942e4ccee"
      },
      "execution_count": null,
      "outputs": [
        {
          "output_type": "stream",
          "name": "stdout",
          "text": [
            "basic_string_with_name: None\n",
            "upper_case_string: None\n",
            "lower_case_string: None\n",
            "first_5_chars: None\n",
            "separated_string: None\n",
            "string_length: None\n"
          ]
        }
      ]
    },
    {
      "cell_type": "markdown",
      "source": [
        "## 2.2 Lists\n",
        "- Lists are used to store multiple items in a single variable.\n",
        "- Lists are created using square brackets: [\"apple\", \"banana\", \"cherry\"]\n",
        "- Operations on lists include:\n",
        "- Accessing items: list[0] = \"apple\"\n",
        "- Slicing: list[1:3] = [\"banana\", \"cherry\"]\n",
        "- Length: len(list) = 3\n",
        "- Adding items: list.append(\"orange\") !!!Mutates the original object\n",
        "- Removing items: list.remove(\"banana\") !!!Mutates the original object\n",
        "- Concatenate lists: [\"apple\", \"banana\", \"cherry\"] + [\"orange\", \"lemon\"]"
      ],
      "metadata": {
        "id": "4bjJFTqZtvNj"
      }
    },
    {
      "cell_type": "markdown",
      "source": [
        "TODO:\n",
        "- Assign the first item of the list to a new variable\n",
        "- Assign all but the first item of the list to a new variable\n",
        "- Assign the length of the list to a new variable\n",
        "- Append \"orange\" to the list\n",
        "- Remove \"orange\" from the list\n",
        "- Concatenate the list with another list [\"orange\", \"lemon\"]"
      ],
      "metadata": {
        "id": "ad-njth2uNPm"
      }
    },
    {
      "cell_type": "code",
      "source": [
        "our_basic_list = [\"apple\", \"banana\", \"cherry\"]\n",
        "first_item = None\n",
        "all_but_first_item = None\n",
        "list_length = None\n",
        "appended_orange = None\n",
        "removed_orange = None\n",
        "concatenated_list = None"
      ],
      "metadata": {
        "id": "6t3MF3_ouEA6"
      },
      "execution_count": null,
      "outputs": []
    },
    {
      "cell_type": "code",
      "source": [
        "for key, value in {\"first_item\": first_item,\n",
        "                   \"all_but_first_item\": all_but_first_item,\n",
        "                   \"list_length\": list_length,\n",
        "                   \"appended_orange\": appended_orange,\n",
        "                   \"removed_orange\": removed_orange,\n",
        "                   \"concatenated_list\": concatenated_list}.items():\n",
        "    print(f\"{key}: {value}\")"
      ],
      "metadata": {
        "id": "YX53td2kuZXh"
      },
      "execution_count": null,
      "outputs": []
    },
    {
      "cell_type": "markdown",
      "source": [
        "# 3 Conditions, Iterations and Functions"
      ],
      "metadata": {
        "id": "HnPct0mxu9q3"
      }
    },
    {
      "cell_type": "markdown",
      "source": [
        "## 3.1 Conditions"
      ],
      "metadata": {
        "id": "Swo1cjMC1_i8"
      }
    },
    {
      "cell_type": "markdown",
      "source": [
        "One of key programming concepts is the ability to perform different actions based on a condition.\n",
        "- In python, we use the if statement to perform a certain action based on a condition.\n",
        "- If the condition is True, the code inside the if statement is executed. If the condition is False, the code is skipped.\n",
        "- In the followwing example, we iterrate over elements of a list and print whether the number is even or odd and how many digits it has."
      ],
      "metadata": {
        "id": "wHCkelDRvumC"
      }
    },
    {
      "cell_type": "code",
      "source": [
        "from random import randint\n",
        "my_number = randint(0, 10)\n",
        "if my_number % 2 == 1:\n",
        "  print(f\"my_number {my_number} is odd\")\n",
        "else:\n",
        "  print(f\"my_number {my_number} is even\")"
      ],
      "metadata": {
        "colab": {
          "base_uri": "https://localhost:8080/"
        },
        "id": "QnYY3-Bn73m8",
        "outputId": "b49b01b8-cbf4-417f-abcb-9df7b1f7b954"
      },
      "execution_count": null,
      "outputs": [
        {
          "output_type": "stream",
          "name": "stdout",
          "text": [
            "my_numer 10 is even\n"
          ]
        }
      ]
    },
    {
      "cell_type": "code",
      "source": [
        "# TODO: define variables colleague_age and my_age, then write a statement which prints who is older\n",
        "colleague_age = 0\n",
        "my_age = 0"
      ],
      "metadata": {
        "id": "9_Ih5iQ08vSH"
      },
      "execution_count": null,
      "outputs": []
    },
    {
      "cell_type": "markdown",
      "source": [
        "## 3.2 For Loop\n",
        "The real power of programming is in the ability to repeat a task multiple times. This is called iteration.\n",
        "In Python, we can iterate over a sequence of items using a for loop.\n",
        "The for loop iterates over a sequence of items and executes the block of code inside the loop\n",
        "once for each item in the sequence. The sequence can be a list, a tuple, a string, a range, or any other iterable object.\n",
        "Here is an example of a for loop that iterates over a list of numbers and prints each number separately. Please be aware that function range() starts by default with 0"
      ],
      "metadata": {
        "id": "HlkyiHeVvBWJ"
      }
    },
    {
      "cell_type": "code",
      "source": [
        "size = 5\n",
        "for i in range(size):  # range(5) creates a generator object (i.e. structure preceding a list) of numers 0 to 4\n",
        "    print(i)"
      ],
      "metadata": {
        "colab": {
          "base_uri": "https://localhost:8080/"
        },
        "id": "2HGjoPlqvKIM",
        "outputId": "c2e3ded3-0119-4ef4-e015-e09c6a4a6dfa"
      },
      "execution_count": null,
      "outputs": [
        {
          "output_type": "stream",
          "name": "stdout",
          "text": [
            "0\n",
            "1\n",
            "2\n",
            "3\n",
            "4\n"
          ]
        }
      ]
    },
    {
      "cell_type": "markdown",
      "source": [
        "You can also nest the loops inside each other. THis way, you can e.g. generate ASCII images, just like this square:"
      ],
      "metadata": {
        "id": "_AhY_3Fv9O1o"
      }
    },
    {
      "cell_type": "code",
      "source": [
        "for i in range(size):\n",
        "  for j in range(size):\n",
        "    print(\"#\", end=\" \")\n",
        "  print()\n"
      ],
      "metadata": {
        "colab": {
          "base_uri": "https://localhost:8080/"
        },
        "id": "gTwpb1_q3xiZ",
        "outputId": "08a4574f-ac80-46a3-fe66-b81d0d145792"
      },
      "execution_count": null,
      "outputs": [
        {
          "output_type": "stream",
          "name": "stdout",
          "text": [
            "# # # # # \n",
            "# # # # # \n",
            "# # # # # \n",
            "# # # # # \n",
            "# # # # # \n"
          ]
        }
      ]
    },
    {
      "cell_type": "markdown",
      "source": [
        "Or this chessboard"
      ],
      "metadata": {
        "id": "dC6ZWDBk9Xzz"
      }
    },
    {
      "cell_type": "code",
      "source": [
        "\n",
        "for i in range(size):\n",
        "  for j in range(size):\n",
        "    if (i + j) % 2 == 0:\n",
        "      print(\"#\", end =\" \")\n",
        "    else:\n",
        "      print(\" \", end = \" \")\n",
        "  print()"
      ],
      "metadata": {
        "colab": {
          "base_uri": "https://localhost:8080/"
        },
        "id": "pHrZKnN5-fEE",
        "outputId": "7e668aea-76bb-4e0e-d32c-ccc446d365b7"
      },
      "execution_count": null,
      "outputs": [
        {
          "output_type": "stream",
          "name": "stdout",
          "text": [
            "#   #   # \n",
            "  #   #   \n",
            "#   #   # \n",
            "  #   #   \n",
            "#   #   # \n"
          ]
        }
      ]
    },
    {
      "cell_type": "markdown",
      "source": [
        "Or even this ornament:"
      ],
      "metadata": {
        "id": "C9uMtVz2_Cli"
      }
    },
    {
      "cell_type": "code",
      "source": [
        "for i in range(size):\n",
        "  for j in range(size):\n",
        "    if (i + j) % 2 == 0 and i == j or (i + j) == size - 1:\n",
        "      print(\"o\", end =\" \")\n",
        "    elif (i + j) % 2 == 0:\n",
        "      print(\"#\", end =\" \")\n",
        "    else:\n",
        "      print(\" \", end = \" \")\n",
        "  print()"
      ],
      "metadata": {
        "colab": {
          "base_uri": "https://localhost:8080/"
        },
        "id": "l-UE-BjX6ORP",
        "outputId": "f5de11c5-a87c-444c-8522-8b0aef053971"
      },
      "execution_count": null,
      "outputs": [
        {
          "output_type": "stream",
          "name": "stdout",
          "text": [
            "o   #   o \n",
            "  o   o   \n",
            "#   o   # \n",
            "  o   o   \n",
            "o   #   o \n"
          ]
        }
      ]
    },
    {
      "cell_type": "code",
      "source": [
        "# TODO: Generate a chessboard which has reversed order of \"#\" and \" \" characters\n",
        "for i in range(size):\n",
        "  for j in range(size):\n",
        "    if (i + j) % 2 == 0:\n",
        "      print(\"#\", end =\" \")\n",
        "    else:\n",
        "      print(\" \", end = \" \")\n",
        "  print()"
      ],
      "metadata": {
        "id": "Rio9YOgn9hl9"
      },
      "execution_count": null,
      "outputs": []
    },
    {
      "cell_type": "markdown",
      "source": [
        "You can even combine the two constructs:"
      ],
      "metadata": {
        "id": "pbsRYjcRAe9b"
      }
    },
    {
      "cell_type": "code",
      "source": [
        "our_numbers = [1, 15, 26, 78, 256, 789, 2267]\n",
        "for num in our_numbers:\n",
        "    if num % 2 == 0:\n",
        "        print(f\"{num} is even\")\n",
        "    else:\n",
        "        print(f\"{num} is odd\")\n",
        "\n",
        "    if num < 10:\n",
        "        print(f\"{num} is a one-digit number\")\n",
        "    elif num > 10 and num < 100:\n",
        "        print(f\"{num} is a two-digit number\")\n",
        "    elif num > 100 and num < 1000:\n",
        "        print(f\"{num} is a three-digit number\")\n",
        "    else:\n",
        "        print(f\"{num} has more than 3 digits\")"
      ],
      "metadata": {
        "colab": {
          "base_uri": "https://localhost:8080/"
        },
        "id": "vXPB84xCv7TJ",
        "outputId": "e48a9cde-0f6e-4c63-e3e4-4560f83eb4d7"
      },
      "execution_count": null,
      "outputs": [
        {
          "output_type": "stream",
          "name": "stdout",
          "text": [
            "1 is odd\n",
            "1 is a one-digit number\n",
            "15 is odd\n",
            "15 is a two-digit number\n",
            "26 is even\n",
            "26 is a two-digit number\n",
            "78 is even\n",
            "78 is a two-digit number\n",
            "256 is even\n",
            "256 is a three-digit number\n",
            "789 is odd\n",
            "789 is a three-digit number\n",
            "2267 is odd\n",
            "2267 is a four-digit number\n"
          ]
        }
      ]
    },
    {
      "cell_type": "markdown",
      "source": [
        "## 3.3 While loop\n",
        "Another way of iteration is the so-called while loop.\n",
        "- The while loop repeats a block of code as long as a specified condition is True\n",
        "- The following example shows how to use a while loop to move all components from our_numbers list to a new list\n",
        "called numbers_moved"
      ],
      "metadata": {
        "id": "G4MAKuNKwH7r"
      }
    },
    {
      "cell_type": "code",
      "source": [
        "numbers_moved = []\n",
        "while len(our_numbers) > 0:\n",
        "    numbers_moved.append(our_numbers.pop(0))\n",
        "    print(numbers_moved[-1])"
      ],
      "metadata": {
        "id": "-pqJx1w-wsSG"
      },
      "execution_count": null,
      "outputs": []
    },
    {
      "cell_type": "markdown",
      "source": [
        "# 4 Further Assignments"
      ],
      "metadata": {
        "id": "OaxhVC9MD6CA"
      }
    },
    {
      "cell_type": "code",
      "source": [
        "def is_palindrome(word):\n",
        "    \"\"\"\n",
        "    Function checks if the word is a palindrome, reverse of the word is the same as the word itself\n",
        "    :param word: word input\n",
        "    :return: bool indicating if the word is a palindrome\n",
        "    \"\"\"\n",
        "    word_reversed = None\n",
        "    return False\n",
        "\n",
        "def character_multiplication(word, n_times):\n",
        "    \"\"\"\n",
        "    Function multiplies each character n_times\n",
        "    :param word: word input\n",
        "    :return: string with multiplied characters\n",
        "    \"\"\"\n",
        "    # hint: use multiplication operator and iterate over all characters inside the word\n",
        "    word_multiplied = \"\"\n",
        "    return word_multiplied\n",
        "\n",
        "def string_intersection(word1, word2):\n",
        "    \"\"\"\n",
        "    Function returns the intersection of two strings, i.e. characters that are\n",
        "\n",
        "    present in both words at the same\n",
        "    position (in the form of string)\n",
        "    :param word1: first word\n",
        "    :param word2: second word\n",
        "    :return: intersection of the two words\n",
        "    \"\"\"\n",
        "    # hint: which word to use as a basis for intersection?\n",
        "    return \"\"\n",
        "\n",
        "def nonzero_product(input_list):\n",
        "    \"\"\"\n",
        "    Function returns the product of all non-zero elements in the list\n",
        "    :param input_list: list containing integer values\n",
        "    :return: nonzero product\n",
        "    \"\"\"\n",
        "    nonzero_product = 0\n",
        "    for element in input_list:\n",
        "        pass\n",
        "    return nonzero_product\n",
        "\n",
        "def get_max(input_list):\n",
        "    \"\"\"\n",
        "    Function returns the maximum value in the list\n",
        "    :param input_list: list containing integer values\n",
        "    :return: maximum value\n",
        "    \"\"\"\n",
        "    max_value = 0\n",
        "    for element in input_list:\n",
        "        pass\n",
        "    return max_value"
      ],
      "metadata": {
        "id": "yJ_zuXi5EEW8"
      },
      "execution_count": null,
      "outputs": []
    },
    {
      "cell_type": "markdown",
      "source": [
        "# 5 Ultimate Bonus"
      ],
      "metadata": {
        "id": "z3GMtg_OA3VJ"
      }
    },
    {
      "cell_type": "markdown",
      "source": [
        "As I've found out that some fairly advanced pythonistas have signed up for my course, here's an assignment which you can spend your time with. Since you have some experience with numpy and pandas, please make sure you don't misuse them, goal is to use only base python functionalities."
      ],
      "metadata": {
        "id": "97XUhQBQA6bf"
      }
    },
    {
      "cell_type": "code",
      "source": [
        "import requests\n",
        "\n",
        "url = \"https://github.com/VondracekS/ts_basics_dtse_lecture/blob/main/jmena.csv\"\n",
        "response = requests.get(url)\n",
        "\n",
        "with open('jmena.csv', 'wb') as f:\n",
        "    f.write(response.content)"
      ],
      "metadata": {
        "id": "FdEwF8akC_Wh"
      },
      "execution_count": 9,
      "outputs": []
    },
    {
      "cell_type": "code",
      "source": [
        "from typing import Dict, List, Tuple, Optional\n",
        "\n",
        "# The function reads the data from the file names.csv and stores it in the dictionary. The file\n",
        "# must be in the same directory as the homework file. Structure\n",
        "# The structure of the scanned data is given by the csv format.\n",
        "# The created dictionary has a data structure in the format dct[name][year], where name is\n",
        "# of str type and year of int type, i.e. for example dct[\"ANNA\"][2000] contains the value 1382.\n",
        "\n",
        "def load_data_to_dictionary() -> Dict[str, Dict[int, int]]:\n",
        "    return {}  # TODO"
      ],
      "metadata": {
        "id": "zA5IP1lKBF1W"
      },
      "execution_count": 10,
      "outputs": []
    },
    {
      "cell_type": "code",
      "source": [
        "# Find the n most popular names for the year. (5 points)\n",
        "\n",
        "# :param dct: dictionary in whose data the results are searched\n",
        "# :param num: number of names to return\n",
        "# :param year: year in which we are searching for the most popular names\n",
        "\n",
        "# :return list containing the n most popular names in the year year\n",
        "\n",
        "\n",
        "def n_most_popular_for_given_year(dct: Dict[str, Dict[int, int]], num: int,\n",
        "                                  year: int) -> List[str]:\n",
        "    return []  # TODO"
      ],
      "metadata": {
        "id": "bSjSLQ-VCh6m"
      },
      "execution_count": 11,
      "outputs": []
    },
    {
      "cell_type": "code",
      "source": [
        "# Find when the name was most popular. (5 points)\n",
        "\n",
        "# :param dct: dictionary in whose data the results are searched\n",
        "# :param name: the name we are looking for in the data.\n",
        "\n",
        "# :return the year (int) in which the name was most popular in the case,\n",
        "# that it is in the dictionary. Otherwise, it returns None\n",
        "\n",
        "\n",
        "def most_popular_in_what_year(dct: Dict[str, Dict[int, int]],\n",
        "                              name: str) -> Optional[int]:\n",
        "    return 0  # TODO"
      ],
      "metadata": {
        "id": "5zX6zZPzCiK1"
      },
      "execution_count": 12,
      "outputs": []
    },
    {
      "cell_type": "code",
      "source": [
        "\n",
        "# The function will find the year when the name had the biggest increase in popularity.\n",
        "# This function considers the increase in popularity in absolute numbers (not\n",
        "# percentage). (5 points)\n",
        "\n",
        "# :param dct: dictionary in whose data we search the results\n",
        "# :param name the name we are examining\n",
        "# :return year integer indicating the year after which the largest increase occurred\n",
        "# popularity for the given name name\n",
        "\n",
        "\n",
        "def maximal_increase(dct: Dict[str, Dict[int, int]],\n",
        "                     name: str) -> Optional[int]:\n",
        "    return 0  # TODO"
      ],
      "metadata": {
        "id": "1o_rNZ0WCiqp"
      },
      "execution_count": 13,
      "outputs": []
    }
  ]
}