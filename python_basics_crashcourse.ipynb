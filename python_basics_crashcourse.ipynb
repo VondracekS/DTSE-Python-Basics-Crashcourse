{
  "nbformat": 4,
  "nbformat_minor": 0,
  "metadata": {
    "colab": {
      "provenance": [],
      "collapsed_sections": [
        "Z8veFKX7zox-",
        "WTYESxlFut78",
        "JbIjqJ_qulP1",
        "Tu0KApJPrb0d",
        "HnPct0mxu9q3",
        "K4SyQDhrxmq1"
      ],
      "toc_visible": true,
      "authorship_tag": "ABX9TyOzUBzVAhNH38H5JIMIDS6B",
      "include_colab_link": true
    },
    "kernelspec": {
      "name": "python3",
      "display_name": "Python 3"
    },
    "language_info": {
      "name": "python"
    }
  },
  "cells": [
    {
      "cell_type": "markdown",
      "metadata": {
        "id": "view-in-github",
        "colab_type": "text"
      },
      "source": [
        "<a href=\"https://colab.research.google.com/github/VondracekS/ts_basics_dtse_lecture/blob/main/python_basics_crashcourse.ipynb\" target=\"_parent\"><img src=\"https://colab.research.google.com/assets/colab-badge.svg\" alt=\"Open In Colab\"/></a>"
      ]
    },
    {
      "cell_type": "markdown",
      "source": [
        "# Python Crashcourse by DTSE AIS\n"
      ],
      "metadata": {
        "id": "Z8veFKX7zox-"
      }
    },
    {
      "cell_type": "markdown",
      "source": [
        "Welcome to our Python course. The goal is to get you acquainted with python\n",
        "and programming basics. THe course does not expect you to be profficient in\n",
        "any of the concept we will be dealing with.\n",
        "\n",
        "\n"
      ],
      "metadata": {
        "id": "rp-UahRg0TQ4"
      }
    },
    {
      "cell_type": "markdown",
      "source": [
        "# 1 Python Basics"
      ],
      "metadata": {
        "id": "WTYESxlFut78"
      }
    },
    {
      "cell_type": "markdown",
      "source": [
        "## 1.1 Variables\n",
        "- Variables are used to store data. A variable is created the moment you first assign a value to it, using the **= operator**.\n",
        "- Variables do not need to be declared with any particular type, and can even change type after they have been set.\n",
        "- Variable names can contain letters, numbers and underscores, but cannot start with a number. A whitespace is not allowed (is interpreted as a start of new object). Python is case-sensitive, so \"a\" and \"A\" are different variables."
      ],
      "metadata": {
        "id": "VekImw7ulej3"
      }
    },
    {
      "cell_type": "markdown",
      "source": [
        "TODO:\n",
        "- Create a variable called \"name\" and set it to ANY name.\n",
        "- Create a variable called \"date_birth\" and set it to ANY date of birth (use format YYYY_MM_DD)."
      ],
      "metadata": {
        "id": "CyYhjjVhogMa"
      }
    },
    {
      "cell_type": "code",
      "source": [
        "# TODO: Create a variable called \"name\" and set it to ANY name.\n",
        "# TODO: Create a variable called \"date_birth\" and set it to ANY date of birth (use format YYYY_MM_DD).\n",
        "name = \"Ahoj\"\n",
        "date_birth = \"2023_01_01\""
      ],
      "metadata": {
        "id": "--_fnT_6lV6r"
      },
      "execution_count": null,
      "outputs": []
    },
    {
      "cell_type": "code",
      "source": [
        "# you can always check the value by using print(variable) command\n",
        "print(name)"
      ],
      "metadata": {
        "colab": {
          "base_uri": "https://localhost:8080/"
        },
        "id": "Y-5oYCyCr8Dk",
        "outputId": "97c7c9cf-dc16-46df-82e5-bf82ec778212"
      },
      "execution_count": null,
      "outputs": [
        {
          "output_type": "stream",
          "name": "stdout",
          "text": [
            "Ahoj\n"
          ]
        }
      ]
    },
    {
      "cell_type": "code",
      "source": [
        "# tests of your results follow:\n",
        "from datetime import datetime\n",
        "\n",
        "def is_date_in_format(date_string: str) -> bool:\n",
        "    try:\n",
        "        datetime.strptime(date_string, '%Y_%m_%d')\n",
        "        return True\n",
        "    except ValueError:\n",
        "        return False"
      ],
      "metadata": {
        "id": "s8wAbg7mlr1O"
      },
      "execution_count": null,
      "outputs": []
    },
    {
      "cell_type": "code",
      "source": [
        "assert is_date_in_format(date_birth), f\"Your variable date: {date_birth} does not fulfill the required format\""
      ],
      "metadata": {
        "id": "CoJSZjnpmpPw"
      },
      "execution_count": null,
      "outputs": []
    },
    {
      "cell_type": "code",
      "source": [
        "assert len(name) > 0 and isinstance(name, str), f\"Your variable name: {name} does not fulfill the requirement\"  # test name validity"
      ],
      "metadata": {
        "id": "-Qp35w2TmrbF"
      },
      "execution_count": null,
      "outputs": []
    },
    {
      "cell_type": "code",
      "source": [
        "for key, value in {\"name\": name, \"date_birth\": date_birth}.items():\n",
        "    print(f\"Variable {key}: value {value} assigned correctly\")"
      ],
      "metadata": {
        "colab": {
          "base_uri": "https://localhost:8080/"
        },
        "id": "vxLioMmankHw",
        "outputId": "dcf42dba-ecc3-4668-c33d-d1369efa4928"
      },
      "execution_count": null,
      "outputs": [
        {
          "output_type": "stream",
          "name": "stdout",
          "text": [
            "Variable name: value Ahoj assigned correctly\n",
            "Variable date_birth: value 2023_01_01 assigned correctly\n"
          ]
        }
      ]
    },
    {
      "cell_type": "markdown",
      "source": [
        "TODO: Create following variables with an appropriate data type:\n",
        "- \"age\" and set it to an integer (whole number)\n",
        "- \"height\" in meters and set it to a float (decimal number)\n",
        "- \"is_student\" and set it to a boolean (True/False)\n",
        "- \"team\" (list of colleagues from the same team, each of them is an item in the list)"
      ],
      "metadata": {
        "id": "rlOPNhjRoZN9"
      }
    },
    {
      "cell_type": "code",
      "source": [
        "age = None\n",
        "height_m = None\n",
        "weight_kg = None\n",
        "is_student = None"
      ],
      "metadata": {
        "id": "Pr19AYNJo6ba"
      },
      "execution_count": null,
      "outputs": []
    },
    {
      "cell_type": "code",
      "source": [
        "assert isinstance(age, int), f\"Variable age incorrectly defined\""
      ],
      "metadata": {
        "id": "-OhI79JSpfVd"
      },
      "execution_count": null,
      "outputs": []
    },
    {
      "cell_type": "code",
      "source": [
        "assert isinstance(height_m, int), \"Variable height_m incorrectly defined\"\n",
        "assert isinstance(weight_kg, int), \"Variable weight_kg incorrectly defined\"\n",
        "assert isinstance(is_student, int), \"Variable is_student incorrectly defined\""
      ],
      "metadata": {
        "id": "fB7sT3Qhpt-O"
      },
      "execution_count": null,
      "outputs": []
    },
    {
      "cell_type": "markdown",
      "source": [
        "TODO: Perform the following operations:\n",
        "- Add 2 to the \"age\" variable\n",
        "- Create a new variable called BMI and compute the value (formula is BMI = weight[kg] / height[meters]^2)\n",
        "- Check if the \"age\" is greater than 18\n",
        "- Check if the age is an odd number (hint: use modulo operator)\n",
        "- Check how many times did the person celebrate 10-year-milestone birthday (hint: use whole number division)\n",
        "- Check if the person is a student and is younger than 18"
      ],
      "metadata": {
        "id": "uhmTwgFfqCVj"
      }
    },
    {
      "cell_type": "code",
      "source": [
        "add_age_2 = None\n",
        "bmi = None\n",
        "age_greater_18 = None\n",
        "age_odd = None\n",
        "celebrated_10_years = None\n",
        "student_and_younger_than_18 = None"
      ],
      "metadata": {
        "id": "T6hmox6hqKXg"
      },
      "execution_count": null,
      "outputs": []
    },
    {
      "cell_type": "code",
      "source": [
        "assert add_age_2 == age + 2, \"Variable add_age_2 is not equal to age + 2\"\n",
        "assert bmi == weight_kg / height_m ** 2, \"Variable bmi is not equal to weight_kg / height_m ** 2\"\n",
        "assert age_greater_18 == age > 18, \"Variable age_greater_18 is not equal to age > 18\"\n",
        "assert age_odd == age % 2 != 0, \"Variable age_odd is not odd\"\n",
        "assert celebrated_10_years == age // 10, \"Variable celebrated_10_years is not equal the whole number division\"\n",
        "assert student_and_younger_than_18 == is_student and age < 18, \"Variable student_and_younger_than_18 is not equal to is_student and age < 18\""
      ],
      "metadata": {
        "id": "WEyNiELNqQP_"
      },
      "execution_count": null,
      "outputs": []
    },
    {
      "cell_type": "markdown",
      "source": [
        "# 2 Further Data Types Operations"
      ],
      "metadata": {
        "id": "JbIjqJ_qulP1"
      }
    },
    {
      "cell_type": "markdown",
      "source": [
        "## 2.1 Strings\n",
        "Strings in Python are arrays of bytes representing Unicode characters.\n",
        "Python does not have a character data type, a single character is simply a string with a length of 1.\n",
        "Strings can be enclosed in single quotes ('...') or double quotes (\"...\") with the same result.\n",
        "Operations on strings include:\n",
        "- Concatenation: \"a\" + \"b\" = \"ab\"\n",
        "- Multiplication: \"a\" * 3 = \"aaa\"\n",
        "- Lower and upper case: \"abc\".upper() = \"ABC\", \"ABC\".lower() = \"abc\"\n",
        "- Indexing: \"abc\"[1] = \"b\" (please note that Python uses 0-based indexing - first character is at index 0)\n",
        "- Slicing: \"abc\"[1:3] = \"bc\" (slicing returns a substring from the start index to the end index)\n",
        "- Length: len(\"abc\") = 3\n",
        "- Splitting: \"a,b,c\".split(\",\") = [\"a\", \"b\", \"c\"]"
      ],
      "metadata": {
        "id": "Tu0KApJPrb0d"
      }
    },
    {
      "cell_type": "code",
      "source": [
        "our_basic_string = \"Hello World!\""
      ],
      "metadata": {
        "id": "n4w0CgQgrmr5"
      },
      "execution_count": null,
      "outputs": []
    },
    {
      "cell_type": "markdown",
      "source": [
        "TODO:\n",
        "- Add your name to the string, so it says \"I am {YOUR NAME}\"\n",
        "- Print the string in upper case\n",
        "- Print the string in lower case\n",
        "- Print the first 5 characters of the string\n",
        "- Separate the string into two parts: \"Hello\" and \"World!\"\n",
        "- Print the length of the string"
      ],
      "metadata": {
        "id": "dzWrk2H3rugt"
      }
    },
    {
      "cell_type": "code",
      "source": [
        "basic_string_with_name = None\n",
        "upper_case_string = None\n",
        "lower_case_string = None\n",
        "first_5_chars = None\n",
        "separated_string = None\n",
        "string_length = None"
      ],
      "metadata": {
        "id": "0bHAAxWZtRib"
      },
      "execution_count": null,
      "outputs": []
    },
    {
      "cell_type": "code",
      "source": [
        "for key, value in {\"basic_string_with_name\": basic_string_with_name,\n",
        "                   \"upper_case_string\": upper_case_string,\n",
        "                   \"lower_case_string\": lower_case_string,\n",
        "                   \"first_5_chars\": first_5_chars,\n",
        "                   \"separated_string\": separated_string,\n",
        "                   \"string_length\": string_length}.items():\n",
        "    print(f\"{key}: {value}\")"
      ],
      "metadata": {
        "colab": {
          "base_uri": "https://localhost:8080/"
        },
        "id": "tNgDnPH5tlM1",
        "outputId": "34eaa872-c3f7-42f3-96f0-a51942e4ccee"
      },
      "execution_count": null,
      "outputs": [
        {
          "output_type": "stream",
          "name": "stdout",
          "text": [
            "basic_string_with_name: None\n",
            "upper_case_string: None\n",
            "lower_case_string: None\n",
            "first_5_chars: None\n",
            "separated_string: None\n",
            "string_length: None\n"
          ]
        }
      ]
    },
    {
      "cell_type": "markdown",
      "source": [
        "## 2.2 Lists\n",
        "- Lists are used to store multiple items in a single variable.\n",
        "- Lists are created using square brackets: [\"apple\", \"banana\", \"cherry\"]\n",
        "- Operations on lists include:\n",
        "- Accessing items: list[0] = \"apple\"\n",
        "- Slicing: list[1:3] = [\"banana\", \"cherry\"]\n",
        "- Length: len(list) = 3\n",
        "- Adding items: list.append(\"orange\") !!!Mutates the original object\n",
        "- Removing items: list.remove(\"banana\") !!!Mutates the original object\n",
        "- Concatenate lists: [\"apple\", \"banana\", \"cherry\"] + [\"orange\", \"lemon\"]"
      ],
      "metadata": {
        "id": "4bjJFTqZtvNj"
      }
    },
    {
      "cell_type": "markdown",
      "source": [
        "TODO:\n",
        "- Assign the first item of the list to a new variable\n",
        "- Assign all but the first item of the list to a new variable\n",
        "- Assign the length of the list to a new variable\n",
        "- Append \"orange\" to the list\n",
        "- Remove \"orange\" from the list\n",
        "- Concatenate the list with another list [\"orange\", \"lemon\"]"
      ],
      "metadata": {
        "id": "ad-njth2uNPm"
      }
    },
    {
      "cell_type": "code",
      "source": [
        "our_basic_list = [\"apple\", \"banana\", \"cherry\"]\n",
        "first_item = None\n",
        "all_but_first_item = None\n",
        "list_length = None\n",
        "appended_orange = None\n",
        "removed_orange = None\n",
        "concatenated_list = None"
      ],
      "metadata": {
        "id": "6t3MF3_ouEA6"
      },
      "execution_count": null,
      "outputs": []
    },
    {
      "cell_type": "code",
      "source": [
        "for key, value in {\"first_item\": first_item,\n",
        "                   \"all_but_first_item\": all_but_first_item,\n",
        "                   \"list_length\": list_length,\n",
        "                   \"appended_orange\": appended_orange,\n",
        "                   \"removed_orange\": removed_orange,\n",
        "                   \"concatenated_list\": concatenated_list}.items():\n",
        "    print(f\"{key}: {value}\")"
      ],
      "metadata": {
        "id": "YX53td2kuZXh"
      },
      "execution_count": null,
      "outputs": []
    },
    {
      "cell_type": "markdown",
      "source": [
        "# 3 Conditions, Iterations and Functions"
      ],
      "metadata": {
        "id": "HnPct0mxu9q3"
      }
    },
    {
      "cell_type": "markdown",
      "source": [
        "## 3.1 For Loop\n",
        "The real power of programming is in the ability to repeat a task multiple times. This is called iteration.\n",
        "In Python, we can iterate over a sequence of items using a for loop.\n",
        "The for loop iterates over a sequence of items and executes the block of code inside the loop\n",
        "once for each item in the sequence. The sequence can be a list, a tuple, a string, a range, or any other iterable object.\n",
        "Here is an example of a for loop that iterates over a list of numbers and prints each number separately. Please be aware that function range() starts by default with 0"
      ],
      "metadata": {
        "id": "HlkyiHeVvBWJ"
      }
    },
    {
      "cell_type": "code",
      "source": [
        "for i in range(10):\n",
        "    print(i)"
      ],
      "metadata": {
        "colab": {
          "base_uri": "https://localhost:8080/"
        },
        "id": "2HGjoPlqvKIM",
        "outputId": "6eacb4f8-7bc7-46a9-c2d1-6178c981301b"
      },
      "execution_count": null,
      "outputs": [
        {
          "output_type": "stream",
          "name": "stdout",
          "text": [
            "0\n",
            "1\n",
            "2\n",
            "3\n",
            "4\n",
            "5\n",
            "6\n",
            "7\n",
            "8\n",
            "9\n"
          ]
        }
      ]
    },
    {
      "cell_type": "markdown",
      "source": [
        "## 3.2 Conditions"
      ],
      "metadata": {
        "id": "Swo1cjMC1_i8"
      }
    },
    {
      "cell_type": "markdown",
      "source": [
        "One of key programming concepts is the ability to perform different actions based on a condition.\n",
        "- In python, we use the if statement to perform a certain action based on a condition.\n",
        "- If the condition is True, the code inside the if statement is executed. If the condition is False, the code is skipped.\n",
        "- In the followwing example, we iterrate over elements of a list and print whether the number is even or odd and how many digits it has."
      ],
      "metadata": {
        "id": "wHCkelDRvumC"
      }
    },
    {
      "cell_type": "code",
      "source": [
        "our_numbers = [1, 15, 26, 78, 256, 789, 2267]\n",
        "for num in our_numbers:\n",
        "    if num % 2 == 0:\n",
        "        print(f\"{num} is even\")\n",
        "    else:\n",
        "        print(f\"{num} is odd\")\n",
        "\n",
        "    if num < 10:\n",
        "        print(f\"{num} is a one-digit number\")\n",
        "    elif num > 10 and num < 100:\n",
        "        print(f\"{num} is a two-digit number\")\n",
        "    elif num > 100 and num < 1000:\n",
        "        print(f\"{num} is a three-digit number\")\n",
        "    else:\n",
        "        print(f\"{num} is a four-digit number\")"
      ],
      "metadata": {
        "colab": {
          "base_uri": "https://localhost:8080/"
        },
        "id": "vXPB84xCv7TJ",
        "outputId": "e48a9cde-0f6e-4c63-e3e4-4560f83eb4d7"
      },
      "execution_count": null,
      "outputs": [
        {
          "output_type": "stream",
          "name": "stdout",
          "text": [
            "1 is odd\n",
            "1 is a one-digit number\n",
            "15 is odd\n",
            "15 is a two-digit number\n",
            "26 is even\n",
            "26 is a two-digit number\n",
            "78 is even\n",
            "78 is a two-digit number\n",
            "256 is even\n",
            "256 is a three-digit number\n",
            "789 is odd\n",
            "789 is a three-digit number\n",
            "2267 is odd\n",
            "2267 is a four-digit number\n"
          ]
        }
      ]
    },
    {
      "cell_type": "markdown",
      "source": [
        "## 3.3 While loop\n",
        "Another way of iteration is the so-called while loop.\n",
        "- The while loop repeats a block of code as long as a specified condition is True\n",
        "- The following example shows how to use a while loop to move all components from our_numbers list to a new list\n",
        "called numbers_moved"
      ],
      "metadata": {
        "id": "G4MAKuNKwH7r"
      }
    },
    {
      "cell_type": "code",
      "source": [
        "numbers_moved = []\n",
        "while len(our_numbers) > 0:\n",
        "    numbers_moved.append(our_numbers.pop(0))\n",
        "    print(numbers_moved[-1])"
      ],
      "metadata": {
        "id": "-pqJx1w-wsSG"
      },
      "execution_count": null,
      "outputs": []
    },
    {
      "cell_type": "markdown",
      "source": [
        "## 3.4 Functions"
      ],
      "metadata": {
        "id": "K4SyQDhrxmq1"
      }
    },
    {
      "cell_type": "markdown",
      "source": [
        "Functions are a way to organize code into reusable blocks.\n",
        "- Each function has its defined name, input parameters, and output value.\n",
        "- In the following example, I create simple functions to indicate whether input number is even and how many digits it has"
      ],
      "metadata": {
        "id": "KsZd_DB1xsTO"
      }
    },
    {
      "cell_type": "code",
      "source": [
        "def is_even_number(number):\n",
        "    if number % 2 == 0:\n",
        "        return True\n",
        "    return False"
      ],
      "metadata": {
        "id": "lMucE_CHxqYY"
      },
      "execution_count": null,
      "outputs": []
    },
    {
      "cell_type": "code",
      "source": [
        "def print_n_digits(number):\n",
        "    return len(str(number))"
      ],
      "metadata": {
        "id": "VGMonCxLyEdL"
      },
      "execution_count": null,
      "outputs": []
    },
    {
      "cell_type": "code",
      "source": [
        "for num in [5, 10, 137, 0]:\n",
        "  print(f\"Number {num} is even: {is_even_number(num)} and has {print_n_digits(num)} digits\")"
      ],
      "metadata": {
        "colab": {
          "base_uri": "https://localhost:8080/"
        },
        "id": "bm6VKTpM0blY",
        "outputId": "22724281-8256-4bb7-bab4-230bd61cc29c"
      },
      "execution_count": null,
      "outputs": [
        {
          "output_type": "stream",
          "name": "stdout",
          "text": [
            "Number 5 is even: False and has 1 digits\n",
            "Number 10 is even: True and has 2 digits\n",
            "Number 137 is even: False and has 3 digits\n",
            "Number 0 is even: True and has 1 digits\n"
          ]
        }
      ]
    },
    {
      "cell_type": "markdown",
      "source": [
        "TODO:\n",
        "- Create a function that takes a string as input and returns the number of characters in the string\n",
        "- Create a function that takes a list of numbers as input and returns the sum of the numbers\n",
        "- Create a function that takes a list of numbers as input and returns the mean (using function defined above)"
      ],
      "metadata": {
        "id": "lL5i-jrxyiUG"
      }
    },
    {
      "cell_type": "code",
      "source": [
        "def count_characters(string):\n",
        "    pass"
      ],
      "metadata": {
        "id": "hyJpuLr91jJx"
      },
      "execution_count": null,
      "outputs": []
    },
    {
      "cell_type": "code",
      "source": [
        "def sum_numbers(numbers_list):\n",
        "    sum_result = 0\n",
        "    # TODO: Your iterations\n",
        "    return sum_result"
      ],
      "metadata": {
        "id": "TChA6U8Z1lfE"
      },
      "execution_count": null,
      "outputs": []
    },
    {
      "cell_type": "code",
      "source": [
        "def average_numbers(numbers_list):\n",
        "    sum = sum_numbers(numbers_list)\n",
        "    # TODO:\n",
        "    pass"
      ],
      "metadata": {
        "id": "uKj0_Bbm1nls"
      },
      "execution_count": null,
      "outputs": []
    },
    {
      "cell_type": "markdown",
      "source": [
        "# 4 Further Assignments"
      ],
      "metadata": {
        "id": "OaxhVC9MD6CA"
      }
    },
    {
      "cell_type": "code",
      "source": [
        "def is_palindrome(word):\n",
        "    \"\"\"\n",
        "    Function checks if the word is a palindrome, reverse of the word is the same as the word itself\n",
        "    :param word: word input\n",
        "    :return: bool indicating if the word is a palindrome\n",
        "    \"\"\"\n",
        "    word_reversed = None\n",
        "    return False\n",
        "\n",
        "def character_multiplication(word, n_times):\n",
        "    \"\"\"\n",
        "    Function multiplies each character n_times\n",
        "    :param word: word input\n",
        "    :return: string with multiplied characters\n",
        "    \"\"\"\n",
        "    # hint: use multiplication operator and iterate over all characters inside the word\n",
        "    word_multiplied = \"\"\n",
        "    return word_multiplied\n",
        "\n",
        "def string_intersection(word1, word2):\n",
        "    \"\"\"\n",
        "    Function returns the intersection of two strings, i.e. characters that are\n",
        "\n",
        "    present in both words at the same\n",
        "    position (in the form of string)\n",
        "    :param word1: first word\n",
        "    :param word2: second word\n",
        "    :return: intersection of the two words\n",
        "    \"\"\"\n",
        "    # hint: which word to use as a basis for intersection?\n",
        "    return \"\"\n",
        "\n",
        "def nonzero_product(input_list):\n",
        "    \"\"\"\n",
        "    Function returns the product of all non-zero elements in the list\n",
        "    :param input_list: list containing integer values\n",
        "    :return: nonzero product\n",
        "    \"\"\"\n",
        "    nonzero_product = 0\n",
        "    for element in input_list:\n",
        "        pass\n",
        "    return nonzero_product\n",
        "\n",
        "def get_max(input_list):\n",
        "    \"\"\"\n",
        "    Function returns the maximum value in the list\n",
        "    :param input_list: list containing integer values\n",
        "    :return: maximum value\n",
        "    \"\"\"\n",
        "    max_value = 0\n",
        "    for element in input_list:\n",
        "        pass\n",
        "    return max_value"
      ],
      "metadata": {
        "id": "yJ_zuXi5EEW8"
      },
      "execution_count": null,
      "outputs": []
    }
  ]
}